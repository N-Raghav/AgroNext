{
 "cells": [
  {
   "cell_type": "code",
   "execution_count": 5,
   "metadata": {},
   "outputs": [],
   "source": [
    "import pandas as pd\n",
    "import numpy as np\n",
    "import os\n",
    "from datetime import datetime, timedelta\n",
    "import pymongo\n",
    "from dotenv import load_dotenv"
   ]
  },
  {
   "cell_type": "code",
   "execution_count": 6,
   "metadata": {},
   "outputs": [],
   "source": [
    "mongo_uri = os.getenv(\"MONGO_URI\")\n",
    "mongo_client = pymongo.MongoClient(mongo_uri)\n",
    "\n",
    "db_cow_monitoring = mongo_client[\"cow_monitoring\"]\n",
    "collection_cow_data = db_cow_monitoring[\"CowData\"]"
   ]
  },
  {
   "cell_type": "code",
   "execution_count": 72,
   "metadata": {},
   "outputs": [],
   "source": [
    "cow_data = pd.DataFrame(list(collection_cow_data.find()))"
   ]
  },
  {
   "cell_type": "code",
   "execution_count": 73,
   "metadata": {},
   "outputs": [],
   "source": [
    "cow_data_dict = {cow_id: cow_data[cow_data['slave_id'] == cow_id] for cow_id in cow_data['slave_id'].unique()}"
   ]
  },
  {
   "cell_type": "code",
   "execution_count": 74,
   "metadata": {},
   "outputs": [],
   "source": [
    "# Function to create records\n",
    "def create_record_from_data(cow_data):\n",
    "    grouped = cow_data.groupby('timestamp')  # Group by timestamp\n",
    "    records = []\n",
    "\n",
    "    # For each group of records with the same timestamp\n",
    "    for timestamp, group in grouped:\n",
    "        record = {'timestamp': timestamp}\n",
    "        \n",
    "        for _, row in group.iterrows():\n",
    "            record[row['parameter']] = row['value']\n",
    "        \n",
    "        records.append(record)\n",
    "    \n",
    "    return pd.DataFrame(records).ffill()"
   ]
  },
  {
   "cell_type": "code",
   "execution_count": 75,
   "metadata": {},
   "outputs": [
    {
     "name": "stderr",
     "output_type": "stream",
     "text": [
      "/var/folders/hm/g79r9phd7ld_128zswnn0qhh0000gn/T/ipykernel_63344/2729918074.py:6: FutureWarning: The behavior of DataFrame concatenation with empty or all-NA entries is deprecated. In a future version, this will no longer exclude empty or all-NA columns when determining the result dtypes. To retain the old behavior, exclude the relevant entries before the concat operation.\n",
      "  df = pd.concat([df, new_record], ignore_index=True)\n"
     ]
    }
   ],
   "source": [
    "columns = ['timestamp', 'slave_id', 'body_temperature', 'activity_level', 'milk_production', 'body_condition_score', 'estrous_cycle', 'feed_intake', 'rumen_ph']\n",
    "df = pd.DataFrame(columns=columns)\n",
    "for i in cow_data_dict:\n",
    "    new_record = create_record_from_data(cow_data_dict[i])\n",
    "    new_record['slave_id'] = i\n",
    "    df = pd.concat([df, new_record], ignore_index=True)"
   ]
  },
  {
   "cell_type": "code",
   "execution_count": 3,
   "metadata": {},
   "outputs": [
    {
     "ename": "ModuleNotFoundError",
     "evalue": "No module named 'tensorflow'",
     "output_type": "error",
     "traceback": [
      "\u001b[0;31m---------------------------------------------------------------------------\u001b[0m",
      "\u001b[0;31mModuleNotFoundError\u001b[0m                       Traceback (most recent call last)",
      "Cell \u001b[0;32mIn[3], line 5\u001b[0m\n\u001b[1;32m      3\u001b[0m \u001b[38;5;28;01mfrom\u001b[39;00m \u001b[38;5;21;01msklearn\u001b[39;00m\u001b[38;5;21;01m.\u001b[39;00m\u001b[38;5;21;01mmodel_selection\u001b[39;00m \u001b[38;5;28;01mimport\u001b[39;00m train_test_split\n\u001b[1;32m      4\u001b[0m \u001b[38;5;28;01mfrom\u001b[39;00m \u001b[38;5;21;01msklearn\u001b[39;00m\u001b[38;5;21;01m.\u001b[39;00m\u001b[38;5;21;01mpreprocessing\u001b[39;00m \u001b[38;5;28;01mimport\u001b[39;00m StandardScaler\n\u001b[0;32m----> 5\u001b[0m \u001b[38;5;28;01mfrom\u001b[39;00m \u001b[38;5;21;01mtensorflow\u001b[39;00m\u001b[38;5;21;01m.\u001b[39;00m\u001b[38;5;21;01mkeras\u001b[39;00m\u001b[38;5;21;01m.\u001b[39;00m\u001b[38;5;21;01mmodels\u001b[39;00m \u001b[38;5;28;01mimport\u001b[39;00m Sequential\n\u001b[1;32m      6\u001b[0m \u001b[38;5;28;01mfrom\u001b[39;00m \u001b[38;5;21;01mtensorflow\u001b[39;00m\u001b[38;5;21;01m.\u001b[39;00m\u001b[38;5;21;01mkeras\u001b[39;00m\u001b[38;5;21;01m.\u001b[39;00m\u001b[38;5;21;01mlayers\u001b[39;00m \u001b[38;5;28;01mimport\u001b[39;00m Dense\n\u001b[1;32m      8\u001b[0m \u001b[38;5;66;03m# Step 1: Simulate or load data\u001b[39;00m\n\u001b[1;32m      9\u001b[0m \u001b[38;5;66;03m# Assuming you have a dataset with the following columns:\u001b[39;00m\n\u001b[1;32m     10\u001b[0m \u001b[38;5;66;03m# Body Temperature (T), Activity Levels (A), Rumen pH (pH), Milk Production (M), Feed Intake (F), Body Condition Score (B), Estrus Heat Date (EHD)\u001b[39;00m\n\u001b[1;32m     11\u001b[0m \n\u001b[1;32m     12\u001b[0m \u001b[38;5;66;03m# Simulated dataset\u001b[39;00m\n",
      "\u001b[0;31mModuleNotFoundError\u001b[0m: No module named 'tensorflow'"
     ]
    }
   ],
   "source": [
    "import numpy as np\n",
    "import pandas as pd\n",
    "from sklearn.model_selection import train_test_split\n",
    "from sklearn.preprocessing import StandardScaler\n",
    "from tensorflow.keras.models import Sequential\n",
    "from tensorflow.keras.layers import Dense\n",
    "\n",
    "# Step 1: Simulate or load data\n",
    "# Assuming you have a dataset with the following columns:\n",
    "# Body Temperature (T), Activity Levels (A), Rumen pH (pH), Milk Production (M), Feed Intake (F), Body Condition Score (B), Estrus Heat Date (EHD)\n",
    "\n",
    "# Simulated dataset\n",
    "np.random.seed(42)  # For reproducibility\n",
    "data_size = 1000\n",
    "data = {\n",
    "    \"Body_Temperature\": np.random.normal(38.5, 0.5, data_size),\n",
    "    \"Activity_Levels\": np.random.normal(50, 10, data_size),\n",
    "    \"Rumen_pH\": np.random.normal(6.5, 0.2, data_size),\n",
    "    \"Milk_Production\": np.random.normal(20, 2, data_size),\n",
    "    \"Feed_Intake\": np.random.normal(25, 3, data_size),\n",
    "    \"Body_Condition_Score\": np.random.normal(3, 0.5, data_size),\n",
    "    \"Estrus_Heat_Date\": np.random.randint(18, 25, data_size)  # Target variable\n",
    "}\n",
    "\n",
    "# Convert to DataFrame\n",
    "df = pd.DataFrame(data)\n",
    "\n",
    "# Step 2: Split data into features and target\n",
    "X = df.drop(columns=[\"Estrus_Heat_Date\"])\n",
    "y = df[\"Estrus_Heat_Date\"]\n",
    "\n",
    "# Train-test split\n",
    "X_train, X_test, y_train, y_test = train_test_split(X, y, test_size=0.2, random_state=42)\n",
    "\n",
    "# Step 3: Standardize the data\n",
    "scaler = StandardScaler()\n",
    "X_train = scaler.fit_transform(X_train)\n",
    "X_test = scaler.transform(X_test)\n",
    "\n",
    "# Step 4: Build the neural network model\n",
    "model = Sequential([\n",
    "    Dense(64, activation='relu', input_dim=X_train.shape[1]),\n",
    "    Dense(32, activation='relu'),\n",
    "    Dense(1)  # Regression output layer\n",
    "])\n",
    "\n",
    "model.compile(optimizer='adam', loss='mean_squared_error', metrics=['mae'])\n",
    "\n",
    "# Step 5: Train the model\n",
    "history = model.fit(X_train, y_train, epochs=50, batch_size=32, validation_data=(X_test, y_test))\n",
    "\n",
    "# Step 6: Evaluate the model\n",
    "test_loss, test_mae = model.evaluate(X_test, y_test)\n",
    "print(f\"Test Loss: {test_loss}, Test MAE: {test_mae}\")\n",
    "\n",
    "# Step 7: Make predictions\n",
    "y_pred = model.predict(X_test)\n",
    "\n",
    "# Display a few predictions\n",
    "for i in range(5):\n",
    "    print(f\"Actual: {y_test.iloc[i]}, Predicted: {y_pred[i][0]}\")\n"
   ]
  }
 ],
 "metadata": {
  "kernelspec": {
   "display_name": "venv",
   "language": "python",
   "name": "python3"
  },
  "language_info": {
   "codemirror_mode": {
    "name": "ipython",
    "version": 3
   },
   "file_extension": ".py",
   "mimetype": "text/x-python",
   "name": "python",
   "nbconvert_exporter": "python",
   "pygments_lexer": "ipython3",
   "version": "3.13.1"
  }
 },
 "nbformat": 4,
 "nbformat_minor": 2
}
