{
 "cells": [
  {
   "cell_type": "code",
   "execution_count": 70,
   "metadata": {},
   "outputs": [],
   "source": [
    "import pandas as pd\n",
    "import numpy as np\n",
    "import os\n",
    "from datetime import datetime, timedelta\n",
    "import pymongo\n",
    "from dotenv import load_dotenv"
   ]
  },
  {
   "cell_type": "code",
   "execution_count": 71,
   "metadata": {},
   "outputs": [],
   "source": [
    "mongo_uri = os.getenv(\"MONGO_URI\")\n",
    "mongo_client = pymongo.MongoClient(mongo_uri)\n",
    "\n",
    "db_cow_monitoring = mongo_client[\"cow_monitoring\"]\n",
    "collection_cow_data = db_cow_monitoring[\"CowData\"]"
   ]
  },
  {
   "cell_type": "code",
   "execution_count": 72,
   "metadata": {},
   "outputs": [],
   "source": [
    "cow_data = pd.DataFrame(list(collection_cow_data.find()))"
   ]
  },
  {
   "cell_type": "code",
   "execution_count": 73,
   "metadata": {},
   "outputs": [],
   "source": [
    "cow_data_dict = {cow_id: cow_data[cow_data['slave_id'] == cow_id] for cow_id in cow_data['slave_id'].unique()}"
   ]
  },
  {
   "cell_type": "code",
   "execution_count": 74,
   "metadata": {},
   "outputs": [],
   "source": [
    "# Function to create records\n",
    "def create_record_from_data(cow_data):\n",
    "    grouped = cow_data.groupby('timestamp')  # Group by timestamp\n",
    "    records = []\n",
    "\n",
    "    # For each group of records with the same timestamp\n",
    "    for timestamp, group in grouped:\n",
    "        record = {'timestamp': timestamp}\n",
    "        \n",
    "        for _, row in group.iterrows():\n",
    "            record[row['parameter']] = row['value']\n",
    "        \n",
    "        records.append(record)\n",
    "    \n",
    "    return pd.DataFrame(records).ffill()"
   ]
  },
  {
   "cell_type": "code",
   "execution_count": 75,
   "metadata": {},
   "outputs": [
    {
     "name": "stderr",
     "output_type": "stream",
     "text": [
      "/var/folders/hm/g79r9phd7ld_128zswnn0qhh0000gn/T/ipykernel_63344/2729918074.py:6: FutureWarning: The behavior of DataFrame concatenation with empty or all-NA entries is deprecated. In a future version, this will no longer exclude empty or all-NA columns when determining the result dtypes. To retain the old behavior, exclude the relevant entries before the concat operation.\n",
      "  df = pd.concat([df, new_record], ignore_index=True)\n"
     ]
    }
   ],
   "source": [
    "columns = ['timestamp', 'slave_id', 'body_temperature', 'activity_level', 'milk_production', 'body_condition_score', 'estrous_cycle', 'feed_intake', 'rumen_ph']\n",
    "df = pd.DataFrame(columns=columns)\n",
    "for i in cow_data_dict:\n",
    "    new_record = create_record_from_data(cow_data_dict[i])\n",
    "    new_record['slave_id'] = i\n",
    "    df = pd.concat([df, new_record], ignore_index=True)"
   ]
  }
 ],
 "metadata": {
  "kernelspec": {
   "display_name": "venv",
   "language": "python",
   "name": "python3"
  },
  "language_info": {
   "codemirror_mode": {
    "name": "ipython",
    "version": 3
   },
   "file_extension": ".py",
   "mimetype": "text/x-python",
   "name": "python",
   "nbconvert_exporter": "python",
   "pygments_lexer": "ipython3",
   "version": "3.13.1"
  }
 },
 "nbformat": 4,
 "nbformat_minor": 2
}
